{
 "cells": [
  {
   "cell_type": "markdown",
   "metadata": {},
   "source": [
    "# Megalolazing is a good song."
   ]
  },
  {
   "cell_type": "markdown",
   "metadata": {},
   "source": [
    "Want my proof? Look at the line below!"
   ]
  },
  {
   "cell_type": "markdown",
   "metadata": {},
   "source": [
    "Megalolazing (specifically [16BitSam](https://www.youtube.com/channel/UC1Ldwujab2BRDhmCwUcI2Bw)'s cover) is good, because it sounds like Sans, and not somebody else."
   ]
  }
 ],
 "metadata": {
  "language_info": {
   "name": "python"
  },
  "orig_nbformat": 4
 },
 "nbformat": 4,
 "nbformat_minor": 2
}
