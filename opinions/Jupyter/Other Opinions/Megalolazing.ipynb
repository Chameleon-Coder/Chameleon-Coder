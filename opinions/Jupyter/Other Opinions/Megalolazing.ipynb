{
 "cells": [
  {
   "cell_type": "markdown",
   "metadata": {},
   "source": [
    "# Megalolazing is a good song."
   ]
  },
  {
   "attachments": {},
   "cell_type": "markdown",
   "metadata": {},
   "source": [
    "Megalolazing (specifically [16BitSam](https://www.youtube.com/channel/UC1Ldwujab2BRDhmCwUcI2Bw)'s cover) is good, because it sounds like SpinShift Sans' theme. You know how Storyshift Chara had Megalovania as a \"sans.\" replacement theme? We can do that to SpinShift."
   ]
  }
 ],
 "metadata": {
  "language_info": {
   "name": "python"
  },
  "orig_nbformat": 4
 },
 "nbformat": 4,
 "nbformat_minor": 2
}
