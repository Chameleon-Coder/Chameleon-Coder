{
 "cells": [
  {
   "attachments": {},
   "cell_type": "markdown",
   "metadata": {},
   "source": [
    "# Random Comedy and Why it's Funny"
   ]
  },
  {
   "attachments": {},
   "cell_type": "markdown",
   "metadata": {},
   "source": [
    "Random comedy is the act of saying something nonsensical for laughs. Some people think that random does not equal funny, but personally, I think random can be funny if used correctly."
   ]
  },
  {
   "attachments": {},
   "cell_type": "markdown",
   "metadata": {},
   "source": [
    "## How does random comedy work?"
   ]
  },
  {
   "attachments": {},
   "cell_type": "markdown",
   "metadata": {},
   "source": [
    "Random comedy works by saying a thing like this:\n",
    ">You need to escape from a penguin in the desert while wearing crocs. What flavor of banana bread do you drink?\n",
    "\n",
    "I know, I stole it from R/iamveryrandom, which posted the question from r/askreddit."
   ]
  }
 ],
 "metadata": {
  "language_info": {
   "name": "python"
  },
  "orig_nbformat": 4
 },
 "nbformat": 4,
 "nbformat_minor": 2
}
