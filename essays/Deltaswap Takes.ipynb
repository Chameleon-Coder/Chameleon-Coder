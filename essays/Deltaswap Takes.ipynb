{
 "cells": [
  {
   "cell_type": "markdown",
   "metadata": {},
   "source": [
    "# Deltaswap AUs"
   ]
  },
  {
   "cell_type": "markdown",
   "metadata": {},
   "source": [
    "My opinion on Deltaswap AUs."
   ]
  },
  {
   "attachments": {},
   "cell_type": "markdown",
   "metadata": {},
   "source": [
    "There are two kinds of Deltaswap:\n",
    "- Chapterswaps\n",
    "- Main Roles Swap"
   ]
  },
  {
   "cell_type": "markdown",
   "metadata": {},
   "source": [
    "## What is a Chapterswap AU?"
   ]
  },
  {
   "cell_type": "markdown",
   "metadata": {},
   "source": [
    "A Chapterswap AU is a Deltarune AU (alternate universe) in which King (Chapter 1 Villain) and Queen (Chapter 2 Villain) swap, and Jevil (Chapter 1 Secret Boss) and Spamton (Chapter 2 Secret Boss) swap."
   ]
  },
  {
   "attachments": {},
   "cell_type": "markdown",
   "metadata": {},
   "source": [
    "## What is a Main Roles Swap AU?"
   ]
  },
  {
   "attachments": {},
   "cell_type": "markdown",
   "metadata": {},
   "source": [
    "Main Roles Swap AUs are when you swap Jevil and King in Chapter 1, and Spamton and Queen in Chapter 2. One of these, Aethercrest by MoonStriker, swaps Kris and Noelle, as well as the Dreemurr family with the Holiday family."
   ]
  }
 ],
 "metadata": {
  "language_info": {
   "name": "python"
  },
  "orig_nbformat": 4
 },
 "nbformat": 4,
 "nbformat_minor": 2
}
